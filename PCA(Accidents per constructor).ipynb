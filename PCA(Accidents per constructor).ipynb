{
 "cells": [
  {
   "cell_type": "code",
   "execution_count": null,
   "id": "61b412d9",
   "metadata": {},
   "outputs": [],
   "source": [
    "# Analyses en composantes principales \n",
    "#L'analyse en composantes principales (ACP ou PCA en anglais) permet de réduire le nombre de dimensions d'un jeu de\n",
    "# données décrit par un grand nombre de variables. Cela permet une visualisation simplifiée et une accélération des calculs.\n",
    "#Dans cette page, nous partirons pour le jeu de données Cons a fin d'etudier le KPI/ Objectif Number of accidents per constrcuteur."
   ]
  },
  {
   "cell_type": "code",
   "execution_count": 8,
   "id": "161f91ee",
   "metadata": {},
   "outputs": [],
   "source": [
    "#Importation des bibliotheques necessaires\n",
    "# sklearn pour Centrer-réduire les valeurs (optionnel)\n",
    "\n",
    "from sklearn.decomposition import PCA\n",
    "import pandas as pd\n",
    "from sklearn.preprocessing import MinMaxScaler\n",
    "from matplotlib import pyplot as plt\n",
    "%matplotlib inline\n",
    "import seaborn as sns\n",
    "import pandas as pd"
   ]
  },
  {
   "cell_type": "code",
   "execution_count": 42,
   "id": "064fd4ca",
   "metadata": {},
   "outputs": [],
   "source": [
    "import pandas \n",
    "const = pandas.read_table(\"constr.csv\",sep=\",\",header=0)"
   ]
  },
  {
   "cell_type": "code",
   "execution_count": 43,
   "id": "09789d7a",
   "metadata": {},
   "outputs": [
    {
     "name": "stdout",
     "output_type": "stream",
     "text": [
      "<class 'pandas.core.frame.DataFrame'>\n"
     ]
    }
   ],
   "source": [
    "# vérifions \n",
    "print(type(const))\n"
   ]
  },
  {
   "cell_type": "code",
   "execution_count": 44,
   "id": "3f65f75a",
   "metadata": {},
   "outputs": [
    {
     "name": "stdout",
     "output_type": "stream",
     "text": [
      "(121, 5)\n"
     ]
    }
   ],
   "source": [
    "print(const.shape)"
   ]
  },
  {
   "cell_type": "code",
   "execution_count": 45,
   "id": "abe84f87",
   "metadata": {},
   "outputs": [
    {
     "name": "stdout",
     "output_type": "stream",
     "text": [
      "Index(['Constracteurs', 'nbreAccidents', 'Stops', 'Rate', 'Saison'], dtype='object')\n"
     ]
    }
   ],
   "source": [
    "print(const.columns)\n",
    "\n"
   ]
  },
  {
   "cell_type": "code",
   "execution_count": 46,
   "id": "425f71db",
   "metadata": {},
   "outputs": [
    {
     "name": "stdout",
     "output_type": "stream",
     "text": [
      "Constracteurs     object\n",
      "nbreAccidents      int64\n",
      "Stops              int64\n",
      "Rate             float64\n",
      "Saison             int64\n",
      "dtype: object\n"
     ]
    }
   ],
   "source": [
    "print(const.dtypes)"
   ]
  },
  {
   "cell_type": "code",
   "execution_count": 48,
   "id": "36ba40fb",
   "metadata": {},
   "outputs": [
    {
     "data": {
      "text/html": [
       "<div>\n",
       "<style scoped>\n",
       "    .dataframe tbody tr th:only-of-type {\n",
       "        vertical-align: middle;\n",
       "    }\n",
       "\n",
       "    .dataframe tbody tr th {\n",
       "        vertical-align: top;\n",
       "    }\n",
       "\n",
       "    .dataframe thead th {\n",
       "        text-align: right;\n",
       "    }\n",
       "</style>\n",
       "<table border=\"1\" class=\"dataframe\">\n",
       "  <thead>\n",
       "    <tr style=\"text-align: right;\">\n",
       "      <th></th>\n",
       "      <th>Constracteurs</th>\n",
       "      <th>nbreAccidents</th>\n",
       "      <th>Stops</th>\n",
       "      <th>Rate</th>\n",
       "      <th>Saison</th>\n",
       "    </tr>\n",
       "  </thead>\n",
       "  <tbody>\n",
       "    <tr>\n",
       "      <th>0</th>\n",
       "      <td>Lesovsky</td>\n",
       "      <td>1</td>\n",
       "      <td>1</td>\n",
       "      <td>0.054259</td>\n",
       "      <td>1959</td>\n",
       "    </tr>\n",
       "    <tr>\n",
       "      <th>1</th>\n",
       "      <td>Cooper-Climax</td>\n",
       "      <td>10</td>\n",
       "      <td>10</td>\n",
       "      <td>0.542594</td>\n",
       "      <td>1965</td>\n",
       "    </tr>\n",
       "    <tr>\n",
       "      <th>2</th>\n",
       "      <td>LEC</td>\n",
       "      <td>1</td>\n",
       "      <td>1</td>\n",
       "      <td>0.054259</td>\n",
       "      <td>1977</td>\n",
       "    </tr>\n",
       "    <tr>\n",
       "      <th>3</th>\n",
       "      <td>AGS</td>\n",
       "      <td>1</td>\n",
       "      <td>1</td>\n",
       "      <td>0.054259</td>\n",
       "      <td>1988</td>\n",
       "    </tr>\n",
       "    <tr>\n",
       "      <th>4</th>\n",
       "      <td>Larrousse</td>\n",
       "      <td>14</td>\n",
       "      <td>14</td>\n",
       "      <td>0.759631</td>\n",
       "      <td>1994</td>\n",
       "    </tr>\n",
       "  </tbody>\n",
       "</table>\n",
       "</div>"
      ],
      "text/plain": [
       "   Constracteurs  nbreAccidents  Stops      Rate  Saison\n",
       "0       Lesovsky              1      1  0.054259    1959\n",
       "1  Cooper-Climax             10     10  0.542594    1965\n",
       "2            LEC              1      1  0.054259    1977\n",
       "3            AGS              1      1  0.054259    1988\n",
       "4      Larrousse             14     14  0.759631    1994"
      ]
     },
     "execution_count": 48,
     "metadata": {},
     "output_type": "execute_result"
    }
   ],
   "source": [
    "#La fonction Python Pandas read_csv est utilisée pour lire ou charger des données à partir de fichiers CSV\n",
    "df = pd.read_csv(\"constr.csv\")\n",
    "\n",
    "#Afficher les n premières lignes de \"df\"\n",
    "df.head()"
   ]
  },
  {
   "cell_type": "code",
   "execution_count": 18,
   "id": "6becf559",
   "metadata": {},
   "outputs": [
    {
     "data": {
      "text/plain": [
       "Text(0, 0.5, 'Constracteurs')"
      ]
     },
     "execution_count": 18,
     "metadata": {},
     "output_type": "execute_result"
    },
    {
     "data": {
      "image/png": "[encoded data removed]",
      "text/plain": [
       "<Figure size 432x288 with 1 Axes>"
      ]
     },
     "metadata": {
      "needs_background": "light"
     },
     "output_type": "display_data"
    }
   ],
   "source": [
    "#Représentation graphique de données généralement\n",
    "plt.scatter(df['nbreAccidents'],df['Constracteurs'])\n",
    "#Ou Bien plt.scatter(df.nome_conlone,df.nome_conlone)\n",
    "plt.xlabel('nbreAccidents')\n",
    "plt.ylabel('Constracteurs')"
   ]
  },
  {
   "cell_type": "code",
   "execution_count": 49,
   "id": "9dc37619",
   "metadata": {},
   "outputs": [
    {
     "data": {
      "image/png": "[encoded data removed]",
      "text/plain": [
       "<Figure size 432x288 with 1 Axes>"
      ]
     },
     "metadata": {
      "needs_background": "light"
     },
     "output_type": "display_data"
    }
   ],
   "source": [
    "import numpy as np\n",
    "\n",
    "y = list(const.nbreAccidents)\n",
    "\n",
    "x = range(len(y))\n",
    "\n",
    "ycum = np.cumsum(y)\n",
    "\n",
    "plt.bar(x,y)\n",
    "\n",
    "plt.plot(x,ycum,\"-r\")\n",
    "\n",
    "plt.show()"
   ]
  },
  {
   "cell_type": "code",
   "execution_count": 50,
   "id": "0de84505",
   "metadata": {},
   "outputs": [],
   "source": [
    "def pareto(data) :\n",
    "\n",
    "    from matplotlib.ticker import PercentFormatter\n",
    "\n",
    "    import numpy as np\n",
    "\n",
    "    y = list(data)\n",
    "\n",
    "    x = range(len(data))\n",
    "\n",
    "    ycum = np.cumsum(y)/sum(y)*100\n",
    "\n",
    "    fig, ax = plt.subplots()\n",
    "\n",
    "    ax.bar(x,y,color=\"yellow\")\n",
    "\n",
    "    ax2 = ax.twinx()\n",
    "\n",
    "    ax2.plot(x,ycum, color=\"C1\", marker=\"D\", ms=7)\n",
    "\n",
    "    ax2.axhline(y=80,color=\"r\")\n",
    "\n",
    "    ax2.yaxis.set_major_formatter(PercentFormatter())\n",
    "\n",
    "    ax.tick_params(axis=\"y\", colors=\"C0\")\n",
    "\n",
    "    ax2.tick_params(axis=\"y\", colors=\"C1\")\n",
    "\n",
    "    plt.ylim(0,110)\n",
    "\n",
    "    plt.show()"
   ]
  },
  {
   "cell_type": "code",
   "execution_count": 51,
   "id": "8335ccbf",
   "metadata": {},
   "outputs": [
    {
     "data": {
      "image/png": "[encoded data removed]",
      "text/plain": [
       "<Figure size 432x288 with 2 Axes>"
      ]
     },
     "metadata": {},
     "output_type": "display_data"
    }
   ],
   "source": [
    "pareto(const.nbreAccidents)"
   ]
  },
  {
   "cell_type": "code",
   "execution_count": 52,
   "id": "d796863c",
   "metadata": {},
   "outputs": [
    {
     "ename": "SyntaxError",
     "evalue": "invalid syntax (Temp/ipykernel_21204/1756061541.py, line 1)",
     "output_type": "error",
     "traceback": [
      "\u001b[1;36m  File \u001b[1;32m\"C:\\Users\\admin\\AppData\\Local\\Temp/ipykernel_21204/1756061541.py\"\u001b[1;36m, line \u001b[1;32m1\u001b[0m\n\u001b[1;33m    2- Visualiser les résultats de l'ACP\u001b[0m\n\u001b[1;37m                  ^\u001b[0m\n\u001b[1;31mSyntaxError\u001b[0m\u001b[1;31m:\u001b[0m invalid syntax\n"
     ]
    }
   ],
   "source": [
    "2- Visualiser les résultats de l'ACP"
   ]
  },
  {
   "cell_type": "code",
   "execution_count": 53,
   "id": "e90dd51c",
   "metadata": {},
   "outputs": [],
   "source": [
    "#######################################\n",
    "\n",
    "# biplot\n",
    "\n",
    "# version 12/11/2021\n",
    "\n",
    "#######################################\n",
    "\n",
    "import matplotlib.pyplot as plt\n",
    "\n",
    "from scipy.spatial import ConvexHull\n",
    "\n",
    "import numpy as np\n",
    "\n",
    "import pandas as pd\n",
    "\n",
    "import matplotlib as mpl\n",
    "\n",
    "import matplotlib.cm as cm\n",
    "\n",
    "import seaborn as sns\n",
    "\n",
    "from sklearn.decomposition import PCA\n",
    "\n",
    "def biplot(pca=[],x=None,y=None,components=[0,1],score=None,coeff=None,coeff_labels=None,score_labels=None,circle='T',bigdata=1000,cat=None,cmap=\"viridis\",density=True):\n",
    "\n",
    "    if isinstance(pca,PCA)==True :\n",
    "\n",
    "        coeff = np.transpose(pca.components_[components, :])\n",
    "\n",
    "        score=  pca.fit_transform(x)[:,components]\n",
    "\n",
    "        if isinstance(x,pd.DataFrame)==True :\n",
    "\n",
    "            coeff_labels = list(x.columns)\n",
    "\n",
    "    if score is not None : x = score\n",
    "\n",
    "    if x.shape[1]>1 :\n",
    "\n",
    "        xs = x[:,0]\n",
    "\n",
    "        ys = x[:,1]\n",
    "\n",
    "    else :\n",
    "\n",
    "        xs = x\n",
    "\n",
    "        ys = y\n",
    "\n",
    "    if (len(xs) != len(ys)) : print(\"Warning ! x et y n'ont pas la même taille !\")\n",
    "\n",
    "    scalex = 1.0/(xs.max() - xs.min())\n",
    "\n",
    "    scaley = 1.0/(ys.max() - ys.min())\n",
    "\n",
    "    #x_c = xs * scalex\n",
    "\n",
    "    #y_c = ys * scaley\n",
    "\n",
    "    temp = (xs - xs.min())\n",
    "\n",
    "    x_c = temp / temp.max() * 2 - 1\n",
    "\n",
    "    temp = (ys - ys.min())\n",
    "\n",
    "    y_c = temp / temp.max() * 2 - 1\n",
    "\n",
    "    data = pd.DataFrame({\"x_c\":x_c,\"y_c\":y_c})\n",
    "\n",
    "    print(\"Attention : pour des facilités d'affichage, les données sont centrées-réduites\")\n",
    "\n",
    "    if cat is None : cat = [0]*len(xs)\n",
    "\n",
    "    elif len(pd.Series(cat)) == 1 : cat = list(pd.Series(cat))*len(xs)\n",
    "\n",
    "    elif len(pd.Series(cat)) != len(xs) : print(\"Warning ! Nombre anormal de catégories !\")\n",
    "\n",
    "    cat = pd.Series(cat).astype(\"category\")\n",
    "\n",
    "    fig = plt.figure(figsize=(6,6),facecolor='w') \n",
    "\n",
    "    ax = fig.add_subplot(111)\n",
    "\n",
    "    # Affichage des points\n",
    "\n",
    "    if (len(xs) < bigdata) :   \n",
    "\n",
    "        ax.scatter(x_c,y_c, c = cat.cat.codes,cmap=cmap)\n",
    "\n",
    "        if density==True : print(\"Warning ! Le mode density actif n'apparait que si BigData est paramétré.\")\n",
    "\n",
    "    # Affichage des nappes convexes (BigData)\n",
    "\n",
    "    else :\n",
    "\n",
    "        #color\n",
    "\n",
    "        norm = mpl.colors.Normalize(vmin=0, vmax=(len(np.unique(cat.cat.codes)))) #-(len(np.unique(c)))\n",
    "\n",
    "        cmap = cmap\n",
    "\n",
    "        m = cm.ScalarMappable(norm=norm, cmap=cmap)\n",
    "\n",
    "        if density==True :\n",
    "\n",
    "            sns.set_style(\"white\")\n",
    "\n",
    "            sns.kdeplot(x=\"x_c\",y=\"y_c\",data=data)\n",
    "\n",
    "            if len(np.unique(cat)) <= 1 :\n",
    "\n",
    "                sns.kdeplot(x=\"x_c\",y=\"y_c\",data=data, cmap=\"Blues\", shade=True, thresh= 0)\n",
    "\n",
    "            else :\n",
    "\n",
    "                for i in np.unique(cat) :\n",
    "\n",
    "                    color_temp = m.to_rgba(i)\n",
    "\n",
    "                    sns.kdeplot(x=\"x_c\",y=\"y_c\",data=data[cat==i], color=color_temp,\n",
    "\n",
    "                                shade=True, thresh=0.25, alpha=0.25)     \n",
    "\n",
    "        for cat_temp in cat.cat.codes.unique() :\n",
    "\n",
    "            x_c_temp = [x_c[i] for i in range(len(x_c)) if (cat.cat.codes[i] == cat_temp)]\n",
    "\n",
    "            y_c_temp = [y_c[i] for i in range(len(y_c)) if (cat.cat.codes[i] == cat_temp)]\n",
    "\n",
    "            points = [ [ None ] * len(x_c_temp) ] * 2\n",
    "\n",
    "            points = np.array(points)\n",
    "\n",
    "            points = points.reshape(len(x_c_temp),2)\n",
    "\n",
    "            points[:,0] = x_c_temp\n",
    "\n",
    "            points[:,1] = y_c_temp\n",
    "\n",
    "            hull = ConvexHull(points)\n",
    "\n",
    "            temp = 0\n",
    "\n",
    "            for simplex in hull.simplices:\n",
    "\n",
    "                color_temp = m.to_rgba(cat_temp)\n",
    "\n",
    "                plt.plot(points[simplex, 0], points[simplex, 1],color=color_temp)#, linestyle='dashed')#linewidth=2,color=cat)\n",
    "\n",
    "                if (temp == 0) :\n",
    "\n",
    "                     plt.xlim(-1,1)\n",
    "\n",
    "                     plt.ylim(-1,1)\n",
    "\n",
    "                     temp = temp+1\n",
    "\n",
    "    if coeff is not None :\n",
    "\n",
    "        if (circle == 'T') :\n",
    "\n",
    "            x_circle = np.linspace(-1, 1, 100)\n",
    "\n",
    "            y_circle = np.linspace(-1, 1, 100)\n",
    "\n",
    "            X, Y = np.meshgrid(x_circle,y_circle)\n",
    "\n",
    "            F = X**2 + Y**2 - 1.0\n",
    "\n",
    "            #fig, ax = plt.subplots()\n",
    "\n",
    "            plt.contour(X,Y,F,[0])\n",
    "\n",
    "        n = coeff.shape[0]\n",
    "\n",
    "        for i in range(n):\n",
    "\n",
    "            plt.arrow(0, 0, coeff[i,0], coeff[i,1],color = 'r',alpha = 0.5,\n",
    "\n",
    "                      head_width=0.05, head_length=0.05)\n",
    "\n",
    "            if coeff_labels is None:\n",
    "\n",
    "                plt.text(coeff[i,0]* 1.15, coeff[i,1] * 1.15, \"Var\"+str(i+1), color = 'g', ha = 'center', va = 'center')\n",
    "\n",
    "            else:\n",
    "\n",
    "                plt.text(coeff[i,0]* 1.15, coeff[i,1] * 1.15, coeff_labels[i], color = 'g', ha = 'center', va = 'center')\n",
    "\n",
    "        if score_labels is not None :\n",
    "\n",
    "            for i in range(len(score_labels)) :\n",
    "\n",
    "                temp_x = xs[i] * scalex\n",
    "\n",
    "                temp_y = ys[i] * scaley\n",
    "\n",
    "                plt.text(temp_x,temp_y,list(score_labels)[i])\n",
    "\n",
    "    plt.xlim(-1.2,1.2)\n",
    "\n",
    "    plt.ylim(-1.2,1.2)\n",
    "\n",
    "    plt.xlabel(\"PC{}\".format(1))\n",
    "\n",
    "    plt.ylabel(\"PC{}\".format(2))\n",
    "\n",
    "    plt.grid(linestyle='--')\n",
    "\n",
    "    plt.show()\n"
   ]
  },
  {
   "cell_type": "code",
   "execution_count": 54,
   "id": "e5947991",
   "metadata": {},
   "outputs": [
    {
     "data": {
      "image/png": "[encoded data removed]",
      "text/plain": [
       "<Figure size 432x288 with 2 Axes>"
      ]
     },
     "metadata": {
      "needs_background": "light"
     },
     "output_type": "display_data"
    }
   ],
   "source": [
    "import matplotlib.pyplot as plt\n",
    "from matplotlib.ticker import PercentFormatter\n",
    "\n",
    "#define aesthetics for plot\n",
    "color1 = 'steelblue'\n",
    "color2 = 'red'\n",
    "line_size = 4\n",
    "\n",
    "#create basic bar plot\n",
    "fig, ax = plt.subplots()\n",
    "ax.bar(df.index, df['nbreAccidents'], color=color1)\n",
    "\n",
    "#add cumulative percentage line to plot\n",
    "ax2 = ax.twinx()\n",
    "ax2.plot(df.index, df['Constracteurs'], color=color2, marker=\"D\", ms=line_size)\n",
    "ax2.yaxis.set_major_formatter(PercentFormatter())\n",
    "\n",
    "#specify axis colors\n",
    "ax.tick_params(axis='y', colors=color1)\n",
    "ax2.tick_params(axis='y', colors=color2)\n",
    "\n",
    "#display Pareto chart\n",
    "plt.show()"
   ]
  },
  {
   "cell_type": "code",
   "execution_count": 55,
   "id": "dbaf1d92",
   "metadata": {},
   "outputs": [
    {
     "name": "stdout",
     "output_type": "stream",
     "text": [
      "0       1\n",
      "1      10\n",
      "2       1\n",
      "3       1\n",
      "4      14\n",
      "       ..\n",
      "116     2\n",
      "117     4\n",
      "118    29\n",
      "119     3\n",
      "120     1\n",
      "Name: Stops, Length: 121, dtype: int64\n"
     ]
    }
   ],
   "source": [
    "# Axes principaux dans l'espace des caractéristiques, représentant les directions de la variance maximale dans les données. Les composantes sont triées par variance expliquée.\n",
    "\n",
    "print(const.Stops) "
   ]
  },
  {
   "cell_type": "code",
   "execution_count": 58,
   "id": "60ee3bd1",
   "metadata": {},
   "outputs": [],
   "source": [
    "Atrack = PCA(n_components=3)"
   ]
  },
  {
   "cell_type": "code",
   "execution_count": 59,
   "id": "31c4aac5",
   "metadata": {},
   "outputs": [
    {
     "ename": "NameError",
     "evalue": "name 'X' is not defined",
     "output_type": "error",
     "traceback": [
      "\u001b[1;31m---------------------------------------------------------------------------\u001b[0m",
      "\u001b[1;31mNameError\u001b[0m                                 Traceback (most recent call last)",
      "\u001b[1;32m~\\AppData\\Local\\Temp/ipykernel_21204/533386187.py\u001b[0m in \u001b[0;36m<module>\u001b[1;34m\u001b[0m\n\u001b[1;32m----> 1\u001b[1;33m \u001b[0mAtrack\u001b[0m\u001b[1;33m.\u001b[0m\u001b[0mfit\u001b[0m\u001b[1;33m(\u001b[0m\u001b[0mX\u001b[0m\u001b[1;33m)\u001b[0m\u001b[1;33m\u001b[0m\u001b[1;33m\u001b[0m\u001b[0m\n\u001b[0m",
      "\u001b[1;31mNameError\u001b[0m: name 'X' is not defined"
     ]
    }
   ],
   "source": [
    "Atrack.fit(X)"
   ]
  },
  {
   "cell_type": "code",
   "execution_count": null,
   "id": "68ff4bbf",
   "metadata": {},
   "outputs": [],
   "source": []
  },
  {
   "cell_type": "code",
   "execution_count": null,
   "id": "d0e587a4",
   "metadata": {},
   "outputs": [],
   "source": []
  }
 ],
 "metadata": {
  "kernelspec": {
   "display_name": "Python 3 (ipykernel)",
   "language": "python",
   "name": "python3"
  },
  "language_info": {
   "codemirror_mode": {
    "name": "ipython",
    "version": 3
   },
   "file_extension": ".py",
   "mimetype": "text/x-python",
   "name": "python",
   "nbconvert_exporter": "python",
   "pygments_lexer": "ipython3",
   "version": "3.9.7"
  }
 },
 "nbformat": 4,
 "nbformat_minor": 5
}
