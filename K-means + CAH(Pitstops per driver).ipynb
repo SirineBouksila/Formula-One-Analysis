{
 "cells": [
  {
   "cell_type": "markdown",
   "metadata": {
    "id": "dTBd20Vm7Gsz"
   },
   "source": [
    "Le problème que nous allons résoudre aujourd'hui est le clustering \n",
    
    "cet ensemble de données particulier où nous avons la durée  et le nombre des pitstops des différents drivers ,on va regroupper  ces points de données dans divers groupes qu'on va essayez de découvrir. On va essayer donc d'identifier certaines caractéristiques de ces groupes tels que le nom ,l'âge la saison,durée et nombre des pitstops. \n",
    "Premièrement , il faut importer l'ensemble de données\n",
    "ainsi qu'importer les bibliothèques essentielles."
   ]
  },
  {
   "cell_type": "code",
   "execution_count": 85,
   "metadata": {
    "id": "1GMrDFigbTBW"
   },
   "outputs": [],
   "source": [
    "from sklearn.cluster import KMeans\n",
    "import pandas as pd\n",
    "from sklearn.preprocessing import MinMaxScaler\n",
    "from matplotlib import pyplot as plt\n",
    "%matplotlib inline"
   ]
  },
  {
   "cell_type": "code",
   "execution_count": 86,
   "metadata": {
    "id": "NRw1z3K7eME1"
   },
   "outputs": [],
   "source": [
    "#importation des données /chargement du fichier\n",
    "import pandas \n",
    "Drivers = pandas.read_table(\"rank-bel-dernier.csv\",sep=\",\",header=0)"
   ]
  },
  {
   "cell_type": "code",
   "execution_count": 87,
   "metadata": {
    "colab": {
     "base_uri": "https://localhost:8080/"
    },
    "id": "ZjvqD7agfFW9",
    "outputId": "b3596f90-6e3f-48c8-f581-a075d0cd64a5"
   },
   "outputs": [
    {
     "name": "stdout",
     "output_type": "stream",
     "text": [
      "<class 'pandas.core.frame.DataFrame'>\n"
     ]
    }
   ],
   "source": [
    "# vérifions \n",
    "print(type(Drivers))"
   ]
  },
  {
   "cell_type": "code",
   "execution_count": 88,
   "metadata": {
    "colab": {
     "base_uri": "https://localhost:8080/"
    },
    "id": "U9ibNOGwfMDz",
    "outputId": "9b2bc261-b93f-46e6-f396-6ea4dfc5a516"
   },
   "outputs": [
    {
     "name": "stdout",
     "output_type": "stream",
     "text": [
      "(68, 6)\n"
     ]
    }
   ],
   "source": [
    "#dimensions : nombre de lignes, nombre de colonnes\n",
    "print(Drivers.shape)"
   ]
  },
  {
   "cell_type": "code",
   "execution_count": 89,
   "metadata": {
    "colab": {
     "base_uri": "https://localhost:8080/"
    },
    "id": "a2NRivGOfVCZ",
    "outputId": "e35d5ff6-737c-4478-e13a-e2b82fdc1808"
   },
   "outputs": [
    {
     "name": "stdout",
     "output_type": "stream",
     "text": [
      "Index(['Drivers', 'Saison', 'Age', 'stops', 'duration', 'Rank'], dtype='object')\n"
     ]
    }
   ],
   "source": [
    "#Les noms des colonnes\n",
    "print(Drivers.columns)"
   ]
  },
  {
   "cell_type": "code",
   "execution_count": 90,
   "metadata": {
    "colab": {
     "base_uri": "https://localhost:8080/"
    },
    "id": "WoWNDxAMfeUs",
    "outputId": "d87164a5-65ca-4f4f-9712-ba265fe9bf49"
   },
   "outputs": [
    {
     "name": "stdout",
     "output_type": "stream",
     "text": [
      "Drivers     object\n",
      "Saison       int64\n",
      "Age          int64\n",
      "stops        int64\n",
      "duration     int64\n",
      "Rank         int64\n",
      "dtype: object\n"
     ]
    }
   ],
   "source": [
    "#Type de chaque colonne\n",
    "print(Drivers.dtypes)"
   ]
  },
  {
   "cell_type": "code",
   "execution_count": 91,
   "metadata": {
    "colab": {
     "base_uri": "https://localhost:8080/",
     "height": 206
    },
    "id": "WSA-lFOVmQA0",
    "outputId": "19750f03-2e39-412a-fb7e-bee9519ab746"
   },
   "outputs": [
    {
     "data": {
      "text/html": [
       "<div>\n",
       "<style scoped>\n",
       "    .dataframe tbody tr th:only-of-type {\n",
       "        vertical-align: middle;\n",
       "    }\n",
       "\n",
       "    .dataframe tbody tr th {\n",
       "        vertical-align: top;\n",
       "    }\n",
       "\n",
       "    .dataframe thead th {\n",
       "        text-align: right;\n",
       "    }\n",
       "</style>\n",
       "<table border=\"1\" class=\"dataframe\">\n",
       "  <thead>\n",
       "    <tr style=\"text-align: right;\">\n",
       "      <th></th>\n",
       "      <th>Drivers</th>\n",
       "      <th>Saison</th>\n",
       "      <th>Age</th>\n",
       "      <th>stops</th>\n",
       "      <th>duration</th>\n",
       "      <th>Rank</th>\n",
       "    </tr>\n",
       "  </thead>\n",
       "  <tbody>\n",
       "    <tr>\n",
       "      <th>0</th>\n",
       "      <td>Heikki Kovalainen</td>\n",
       "      <td>2013</td>\n",
       "      <td>32</td>\n",
       "      <td>5</td>\n",
       "      <td>22646</td>\n",
       "      <td>16</td>\n",
       "    </tr>\n",
       "    <tr>\n",
       "      <th>1</th>\n",
       "      <td>Karun Chandhok</td>\n",
       "      <td>2011</td>\n",
       "      <td>27</td>\n",
       "      <td>3</td>\n",
       "      <td>22458</td>\n",
       "      <td>22</td>\n",
       "    </tr>\n",
       "    <tr>\n",
       "      <th>2</th>\n",
       "      <td>Valtteri Bottas</td>\n",
       "      <td>2021</td>\n",
       "      <td>32</td>\n",
       "      <td>5</td>\n",
       "      <td>21071</td>\n",
       "      <td>6</td>\n",
       "    </tr>\n",
       "    <tr>\n",
       "      <th>3</th>\n",
       "      <td>Alexander Rossi</td>\n",
       "      <td>2015</td>\n",
       "      <td>24</td>\n",
       "      <td>3</td>\n",
       "      <td>26706</td>\n",
       "      <td>18</td>\n",
       "    </tr>\n",
       "    <tr>\n",
       "      <th>4</th>\n",
       "      <td>Pierre Gasly</td>\n",
       "      <td>2021</td>\n",
       "      <td>25</td>\n",
       "      <td>4</td>\n",
       "      <td>20850</td>\n",
       "      <td>4</td>\n",
       "    </tr>\n",
       "  </tbody>\n",
       "</table>\n",
       "</div>"
      ],
      "text/plain": [
       "             Drivers  Saison  Age  stops  duration  Rank\n",
       "0  Heikki Kovalainen    2013   32      5     22646    16\n",
       "1     Karun Chandhok    2011   27      3     22458    22\n",
       "2    Valtteri Bottas    2021   32      5     21071     6\n",
       "3    Alexander Rossi    2015   24      3     26706    18\n",
       "4       Pierre Gasly    2021   25      4     20850     4"
      ]
     },
     "execution_count": 91,
     "metadata": {},
     "output_type": "execute_result"
    }
   ],
   "source": [
    "#La fonction Python Pandas read_csv est utilisée pour lire ou charger des données à partir de fichiers CSV\n",
    "\n",
    "#Afficher les n premières lignes de \"df\"\n",
    "Drivers.head()"
   ]
  },
  {
   "cell_type": "code",
   "execution_count": 118,
   "metadata": {},
   "outputs": [
    {
     "data": {
      "text/plain": [
       "array([[<AxesSubplot:xlabel='Saison', ylabel='Saison'>,\n",
       "        <AxesSubplot:xlabel='Age', ylabel='Saison'>,\n",
       "        <AxesSubplot:xlabel='stops', ylabel='Saison'>,\n",
       "        <AxesSubplot:xlabel='duration', ylabel='Saison'>,\n",
       "        <AxesSubplot:xlabel='Rank', ylabel='Saison'>,\n",
       "        <AxesSubplot:xlabel='Cluster', ylabel='Saison'>],\n",
       "       [<AxesSubplot:xlabel='Saison', ylabel='Age'>,\n",
       "        <AxesSubplot:xlabel='Age', ylabel='Age'>,\n",
       "        <AxesSubplot:xlabel='stops', ylabel='Age'>,\n",
       "        <AxesSubplot:xlabel='duration', ylabel='Age'>,\n",
       "        <AxesSubplot:xlabel='Rank', ylabel='Age'>,\n",
       "        <AxesSubplot:xlabel='Cluster', ylabel='Age'>],\n",
       "       [<AxesSubplot:xlabel='Saison', ylabel='stops'>,\n",
       "        <AxesSubplot:xlabel='Age', ylabel='stops'>,\n",
       "        <AxesSubplot:xlabel='stops', ylabel='stops'>,\n",
       "        <AxesSubplot:xlabel='duration', ylabel='stops'>,\n",
       "        <AxesSubplot:xlabel='Rank', ylabel='stops'>,\n",
       "        <AxesSubplot:xlabel='Cluster', ylabel='stops'>],\n",
       "       [<AxesSubplot:xlabel='Saison', ylabel='duration'>,\n",
       "        <AxesSubplot:xlabel='Age', ylabel='duration'>,\n",
       "        <AxesSubplot:xlabel='stops', ylabel='duration'>,\n",
       "        <AxesSubplot:xlabel='duration', ylabel='duration'>,\n",
       "        <AxesSubplot:xlabel='Rank', ylabel='duration'>,\n",
       "        <AxesSubplot:xlabel='Cluster', ylabel='duration'>],\n",
       "       [<AxesSubplot:xlabel='Saison', ylabel='Rank'>,\n",
       "        <AxesSubplot:xlabel='Age', ylabel='Rank'>,\n",
       "        <AxesSubplot:xlabel='stops', ylabel='Rank'>,\n",
       "        <AxesSubplot:xlabel='duration', ylabel='Rank'>,\n",
       "        <AxesSubplot:xlabel='Rank', ylabel='Rank'>,\n",
       "        <AxesSubplot:xlabel='Cluster', ylabel='Rank'>],\n",
       "       [<AxesSubplot:xlabel='Saison', ylabel='Cluster'>,\n",
       "        <AxesSubplot:xlabel='Age', ylabel='Cluster'>,\n",
       "        <AxesSubplot:xlabel='stops', ylabel='Cluster'>,\n",
       "        <AxesSubplot:xlabel='duration', ylabel='Cluster'>,\n",
       "        <AxesSubplot:xlabel='Rank', ylabel='Cluster'>,\n",
       "        <AxesSubplot:xlabel='Cluster', ylabel='Cluster'>]], dtype=object)"
      ]
     },
     "execution_count": 118,
     "metadata": {},
     "output_type": "execute_result"
    },
    {
     "data": {
      "image/png": "[encoded data removed]",
      "text/plain": [
       "<Figure size 648x648 with 36 Axes>"
      ]
     },
     "metadata": {
      "needs_background": "light"
     },
     "output_type": "display_data"
    }
   ],
   "source": [
    "#graphique - croisement deux à deux des variables\n",
    "from pandas.plotting import scatter_matrix \n",
    "scatter_matrix(Drivers,figsize=(9,9))"
   ]
  },
  {
   "cell_type": "markdown",
   "metadata": {
    "id": "t4_RDDCJxvrR"
   },
   "source": [
    "# ***Avec plt.scatter***\n",
    "Créez un nuage de points avec différentes tailles et couleurs de marqueurs. Les coordonnées de chaque point sont définies par deux colonnes de dataframe et des cercles pleins sont utilisés pour représenter chaque point. Ce type de graphique est utile pour voir des corrélations complexes entre deux variables.\n",
    "\n"
   ]
  },
  {
   "cell_type": "code",
   "execution_count": 92,
   "metadata": {
    "colab": {
     "base_uri": "https://localhost:8080/",
     "height": 296
    },
    "id": "tFdDXEKTqa8E",
    "outputId": "ab3231a3-a1c7-4f82-8873-4468d7403a97"
   },
   "outputs": [
    {
     "data": {
      "text/plain": [
       "Text(0, 0.5, 'duration')"
      ]
     },
     "execution_count": 92,
     "metadata": {},
     "output_type": "execute_result"
    },
    {
     "data": {
      "image/png": "[encoded data removed]",
      "text/plain": [
       "<Figure size 432x288 with 1 Axes>"
      ]
     },
     "metadata": {
      "needs_background": "light"
     },
     "output_type": "display_data"
    }
   ],
   "source": [
    "#Représentation graphique de données généralement\n",
    "plt.scatter(Drivers['Rank'],Drivers['duration'])\n",
    "#Ou Bien plt.scatter(df.nome_conlone,df.nome_conlone)\n",
    "plt.xlabel('Rank')\n",
    "plt.ylabel('duration')"
   ]
  },
  {
   "cell_type": "code",
   "execution_count": 93,
   "metadata": {
    "id": "ASvx0HXrxdEt"
   },
   "outputs": [
    {
     "name": "stderr",
     "output_type": "stream",
     "text": [
      "C:\\Users\\DELL\\anaconda3\\lib\\site-packages\\sklearn\\cluster\\_kmeans.py:881: UserWarning: KMeans is known to have a memory leak on Windows with MKL, when there are less chunks than available threads. You can avoid it by setting the environment variable OMP_NUM_THREADS=1.\n",
      "  warnings.warn(\n"
     ]
    },
    {
     "data": {
      "text/plain": [
       "[<matplotlib.lines.Line2D at 0x14cc98ae850>]"
      ]
     },
     "execution_count": 93,
     "metadata": {},
     "output_type": "execute_result"
    },
    {
     "data": {
      "image/png": "[encoded data removed]",
      "text/plain": [
       "<Figure size 432x288 with 1 Axes>"
      ]
     },
     "metadata": {
      "needs_background": "light"
     },
     "output_type": "display_data"
    }
   ],
   "source": [
    "#Elbow Plot :  méthodes pour déterminer le nombre de clusters\n",
    "sse = []\n",
    "k_rng = range(1,6)\n",
    "for k in k_rng:\n",
    "    km = KMeans(n_clusters=k)\n",
    "    km.fit(Drivers[['Rank','duration']])\n",
    "    sse.append(km.inertia_)\n",
    "\n",
    "plt.xlabel('K')\n",
    "plt.ylabel('Sum of squared error')\n",
    "plt.plot(k_rng,sse)"
   ]
  },
  {
   "cell_type": "code",
   "execution_count": 100,
   "metadata": {
    "colab": {
     "base_uri": "https://localhost:8080/",
     "height": 307
    },
    "id": "llwFkSmgBTkw",
    "outputId": "1e2f2786-17a7-4b5c-c92d-0a8796fe359a"
   },
   "outputs": [
    {
     "data": {
      "text/plain": [
       "array([0, 0, 0, 2, 0, 0, 2, 0, 2, 1, 0, 0, 0, 0, 0, 2, 2, 0, 0, 0, 0, 0,\n",
       "       1, 0, 0, 2, 0, 2, 0, 0, 0, 0, 2, 0, 0, 0, 0, 2, 2, 2, 0, 0, 0, 0,\n",
       "       2, 0, 0, 0, 0, 2, 0, 0, 0, 0, 0, 0, 0, 0, 0, 2, 0, 2, 2, 0, 0, 0,\n",
       "       0, 0])"
      ]
     },
     "execution_count": 100,
     "metadata": {},
     "output_type": "execute_result"
    }
   ],
   "source": [
    "#Nombre de K ajouté\n",
    "km = KMeans(n_clusters=3)\n",
    "#Calculer les centres de cluster et prédire l'index de cluster \n",
    "Vecteur_n_1 = km.fit_predict(Drivers[['Rank','duration']])\n",
    "Vecteur_n_1"
   ]
  },
  {
   "cell_type": "markdown",
   "metadata": {
    "id": "QuoH_kuWNn9m"
   },
   "source": [
    "🌎 partir de la méthode du coude qui montre la courbe ci-dessous, nous avons choisi K = 3 au point linéaire cst\n"
   ]
  },
  {
   "cell_type": "code",
   "execution_count": 101,
   "metadata": {
    "colab": {
     "base_uri": "https://localhost:8080/"
    },
    "id": "u6MiKLV6Do3_",
    "outputId": "a774c8ad-be48-4b02-d186-f2499918ea4d"
   },
   "outputs": [
    {
     "data": {
      "text/plain": [
       "array([[1.2920000e+01, 2.2044100e+04],\n",
       "       [1.6000000e+01, 4.0520000e+04],\n",
       "       [1.5125000e+01, 2.7279625e+04]])"
      ]
     },
     "execution_count": 101,
     "metadata": {},
     "output_type": "execute_result"
    }
   ],
   "source": [
    "km.cluster_centers_\n"
   ]
  },
  {
   "cell_type": "code",
   "execution_count": 102,
   "metadata": {
    "colab": {
     "base_uri": "https://localhost:8080/",
     "height": 206
    },
    "id": "nup9l0IiJnWi",
    "outputId": "3a9c1cb9-361f-4b81-fe79-cf8405a888f2"
   },
   "outputs": [
    {
     "data": {
      "text/html": [
       "<div>\n",
       "<style scoped>\n",
       "    .dataframe tbody tr th:only-of-type {\n",
       "        vertical-align: middle;\n",
       "    }\n",
       "\n",
       "    .dataframe tbody tr th {\n",
       "        vertical-align: top;\n",
       "    }\n",
       "\n",
       "    .dataframe thead th {\n",
       "        text-align: right;\n",
       "    }\n",
       "</style>\n",
       "<table border=\"1\" class=\"dataframe\">\n",
       "  <thead>\n",
       "    <tr style=\"text-align: right;\">\n",
       "      <th></th>\n",
       "      <th>Drivers</th>\n",
       "      <th>Saison</th>\n",
       "      <th>Age</th>\n",
       "      <th>stops</th>\n",
       "      <th>duration</th>\n",
       "      <th>Rank</th>\n",
       "      <th>Cluster</th>\n",
       "    </tr>\n",
       "  </thead>\n",
       "  <tbody>\n",
       "    <tr>\n",
       "      <th>0</th>\n",
       "      <td>Heikki Kovalainen</td>\n",
       "      <td>2013</td>\n",
       "      <td>32</td>\n",
       "      <td>5</td>\n",
       "      <td>22646</td>\n",
       "      <td>16</td>\n",
       "      <td>0</td>\n",
       "    </tr>\n",
       "    <tr>\n",
       "      <th>1</th>\n",
       "      <td>Karun Chandhok</td>\n",
       "      <td>2011</td>\n",
       "      <td>27</td>\n",
       "      <td>3</td>\n",
       "      <td>22458</td>\n",
       "      <td>22</td>\n",
       "      <td>0</td>\n",
       "    </tr>\n",
       "    <tr>\n",
       "      <th>2</th>\n",
       "      <td>Valtteri Bottas</td>\n",
       "      <td>2021</td>\n",
       "      <td>32</td>\n",
       "      <td>5</td>\n",
       "      <td>21071</td>\n",
       "      <td>6</td>\n",
       "      <td>0</td>\n",
       "    </tr>\n",
       "    <tr>\n",
       "      <th>3</th>\n",
       "      <td>Alexander Rossi</td>\n",
       "      <td>2015</td>\n",
       "      <td>24</td>\n",
       "      <td>3</td>\n",
       "      <td>26706</td>\n",
       "      <td>18</td>\n",
       "      <td>2</td>\n",
       "    </tr>\n",
       "    <tr>\n",
       "      <th>4</th>\n",
       "      <td>Pierre Gasly</td>\n",
       "      <td>2021</td>\n",
       "      <td>25</td>\n",
       "      <td>4</td>\n",
       "      <td>20850</td>\n",
       "      <td>4</td>\n",
       "      <td>0</td>\n",
       "    </tr>\n",
       "  </tbody>\n",
       "</table>\n",
       "</div>"
      ],
      "text/plain": [
       "             Drivers  Saison  Age  stops  duration  Rank  Cluster\n",
       "0  Heikki Kovalainen    2013   32      5     22646    16        0\n",
       "1     Karun Chandhok    2011   27      3     22458    22        0\n",
       "2    Valtteri Bottas    2021   32      5     21071     6        0\n",
       "3    Alexander Rossi    2015   24      3     26706    18        2\n",
       "4       Pierre Gasly    2021   25      4     20850     4        0"
      ]
     },
     "execution_count": 102,
     "metadata": {},
     "output_type": "execute_result"
    }
   ],
   "source": [
    "#ajouter le Valeur de Vecteur_n_1 en df\n",
    "Drivers['Cluster']=Vecteur_n_1\n",
    "Drivers.head()"
   ]
  },
  {
   "cell_type": "code",
   "execution_count": 103,
   "metadata": {
    "colab": {
     "base_uri": "https://localhost:8080/",
     "height": 296
    },
    "id": "7ERZAQU8Q9sS",
    "outputId": "69a66387-ae15-4839-a47c-91f259a39d63"
   },
   "outputs": [
    {
     "data": {
      "text/plain": [
       "<matplotlib.legend.Legend at 0x14cc9996c40>"
      ]
     },
     "execution_count": 103,
     "metadata": {},
     "output_type": "execute_result"
    },
    {
     "data": {
      "image/png": "[encoded data removed]",
      "text/plain": [
       "<Figure size 432x288 with 1 Axes>"
      ]
     },
     "metadata": {
      "needs_background": "light"
     },
     "output_type": "display_data"
    }
   ],
   "source": [
    "Drivers1 = Drivers[Drivers.Cluster==0]\n",
    "Drivers2 = Drivers[Drivers.Cluster==1]\n",
    "Drivers3 = Drivers[Drivers.Cluster==2]\n",
    "#Drivers4 = Drivers[Drivers.Cluster==3]\n",
    "\n",
    "plt.scatter(Drivers1['Rank'],Drivers1['duration'],color='green')\n",
    "plt.scatter(Drivers2['Rank'],Drivers2['duration'],color='red')\n",
    "plt.scatter(Drivers3['Rank'],Drivers3['duration'],color='grey')\n",
    "#plt.scatter(Drivers4['Rank'],Drivers4['duration'],color='yellow')\n",
    "\n",
    "plt.scatter(km.cluster_centers_[:,0],km.cluster_centers_[:,1],color='purple',marker='*',label='centroid')\n",
    "plt.xlabel('Rank')\n",
    "plt.ylabel('duration')\n",
    "plt.legend()"
   ]
  },
  {
   "cell_type": "markdown",
   "metadata": {
    "id": "ioWMR3HsTf3o"
   },
   "source": [
    "Nous remarquons que les nuages de points est là mais il ya un petit problème , ce cluster rouge a l'air bien mais il ya un problème avec ces deux clusters ,ils ne sont pas regroupés proement,un problème  est survenu parce que notre mise à l'échelle n'est pas correcte,notre axe des y est mis à une échelle de  20000 , 40000 et la plage de l'axe des x est assez étroite, c'est à peine 20 contre ici 40000. Alors quand vous ne dimensionnez pas correctement vos fonctionnalités, vous pourriez avoir ce problème"
   ]
  },
  {
   "cell_type": "code",
   "execution_count": 104,
   "metadata": {
    "id": "UkD3mA-TTrw-"
   },
   "outputs": [],
   "source": [
    "#MinMaxScaler réduit les données dans la plage donnée, généralement de 0 à 1 pour les données, \n",
    "#Il transforme les données en mettant à l'échelle les fonctionnalités dans une plage donnée.\n",
    "#exemple (Age,Income($)) de (27,7000)--> transformé a (0.05,0.2). \n",
    "\n",
    "scaler = MinMaxScaler()\n",
    "\n",
    "scaler.fit(Drivers[['duration']])\n",
    "Drivers['duration'] = scaler.transform(Drivers[['duration']])\n",
    "\n",
    "scaler.fit(Drivers[['Rank']])\n",
    "Drivers['Rank'] = scaler.transform(Drivers[['Rank']])"
   ]
  },
  {
   "cell_type": "code",
   "execution_count": 105,
   "metadata": {
    "colab": {
     "base_uri": "https://localhost:8080/",
     "height": 206
    },
    "id": "FDWk7P_UWwDk",
    "outputId": "4f708503-73c3-4a5b-b21e-6d1be3fc6128"
   },
   "outputs": [
    {
     "data": {
      "text/html": [
       "<div>\n",
       "<style scoped>\n",
       "    .dataframe tbody tr th:only-of-type {\n",
       "        vertical-align: middle;\n",
       "    }\n",
       "\n",
       "    .dataframe tbody tr th {\n",
       "        vertical-align: top;\n",
       "    }\n",
       "\n",
       "    .dataframe thead th {\n",
       "        text-align: right;\n",
       "    }\n",
       "</style>\n",
       "<table border=\"1\" class=\"dataframe\">\n",
       "  <thead>\n",
       "    <tr style=\"text-align: right;\">\n",
       "      <th></th>\n",
       "      <th>Drivers</th>\n",
       "      <th>Saison</th>\n",
       "      <th>Age</th>\n",
       "      <th>stops</th>\n",
       "      <th>duration</th>\n",
       "      <th>Rank</th>\n",
       "      <th>Cluster</th>\n",
       "    </tr>\n",
       "  </thead>\n",
       "  <tbody>\n",
       "    <tr>\n",
       "      <th>0</th>\n",
       "      <td>Heikki Kovalainen</td>\n",
       "      <td>2013</td>\n",
       "      <td>32</td>\n",
       "      <td>5</td>\n",
       "      <td>0.224179</td>\n",
       "      <td>0.681818</td>\n",
       "      <td>0</td>\n",
       "    </tr>\n",
       "    <tr>\n",
       "      <th>1</th>\n",
       "      <td>Karun Chandhok</td>\n",
       "      <td>2011</td>\n",
       "      <td>27</td>\n",
       "      <td>3</td>\n",
       "      <td>0.216238</td>\n",
       "      <td>0.954545</td>\n",
       "      <td>0</td>\n",
       "    </tr>\n",
       "    <tr>\n",
       "      <th>2</th>\n",
       "      <td>Valtteri Bottas</td>\n",
       "      <td>2021</td>\n",
       "      <td>32</td>\n",
       "      <td>5</td>\n",
       "      <td>0.157648</td>\n",
       "      <td>0.227273</td>\n",
       "      <td>0</td>\n",
       "    </tr>\n",
       "    <tr>\n",
       "      <th>3</th>\n",
       "      <td>Alexander Rossi</td>\n",
       "      <td>2015</td>\n",
       "      <td>24</td>\n",
       "      <td>3</td>\n",
       "      <td>0.395683</td>\n",
       "      <td>0.772727</td>\n",
       "      <td>2</td>\n",
       "    </tr>\n",
       "    <tr>\n",
       "      <th>4</th>\n",
       "      <td>Pierre Gasly</td>\n",
       "      <td>2021</td>\n",
       "      <td>25</td>\n",
       "      <td>4</td>\n",
       "      <td>0.148312</td>\n",
       "      <td>0.136364</td>\n",
       "      <td>0</td>\n",
       "    </tr>\n",
       "  </tbody>\n",
       "</table>\n",
       "</div>"
      ],
      "text/plain": [
       "             Drivers  Saison  Age  stops  duration      Rank  Cluster\n",
       "0  Heikki Kovalainen    2013   32      5  0.224179  0.681818        0\n",
       "1     Karun Chandhok    2011   27      3  0.216238  0.954545        0\n",
       "2    Valtteri Bottas    2021   32      5  0.157648  0.227273        0\n",
       "3    Alexander Rossi    2015   24      3  0.395683  0.772727        2\n",
       "4       Pierre Gasly    2021   25      4  0.148312  0.136364        0"
      ]
     },
     "execution_count": 105,
     "metadata": {},
     "output_type": "execute_result"
    }
   ],
   "source": [
    "Drivers.head()\n"
   ]
  },
  {
   "cell_type": "code",
   "execution_count": 106,
   "metadata": {
    "id": "00e7ySK6Xpa_"
   },
   "outputs": [
    {
     "name": "stderr",
     "output_type": "stream",
     "text": [
      "C:\\Users\\DELL\\anaconda3\\lib\\site-packages\\sklearn\\cluster\\_kmeans.py:881: UserWarning: KMeans is known to have a memory leak on Windows with MKL, when there are less chunks than available threads. You can avoid it by setting the environment variable OMP_NUM_THREADS=1.\n",
      "  warnings.warn(\n"
     ]
    }
   ],
   "source": [
    "#Elbow Plot :  méthodes pour déterminer le nombre de clusters\n",
    "sse = []\n",
    "k_rng = range(1,7)\n",
    "for k in k_rng:\n",
    "    km = KMeans(n_clusters=k)\n",
    "    km.fit(Drivers[['duration','Rank']])\n",
    "    sse.append(km.inertia_)\n"
   ]
  },
  {
   "cell_type": "code",
   "execution_count": 107,
   "metadata": {
    "colab": {
     "base_uri": "https://localhost:8080/",
     "height": 296
    },
    "id": "D0ajoTlLXyqv",
    "outputId": "155ad1eb-4fbc-4fa7-c7ac-401a442ddb31"
   },
   "outputs": [
    {
     "data": {
      "text/plain": [
       "[<matplotlib.lines.Line2D at 0x14cc99fa940>]"
      ]
     },
     "execution_count": 107,
     "metadata": {},
     "output_type": "execute_result"
    },
    {
     "data": {
      "image/png": "[encoded data removed]",
      "text/plain": [
       "<Figure size 432x288 with 1 Axes>"
      ]
     },
     "metadata": {
      "needs_background": "light"
     },
     "output_type": "display_data"
    }
   ],
   "source": [
    "plt.xlabel('K')\n",
    "plt.ylabel('Sum of squared error')\n",
    "plt.plot(k_rng,sse)\n",
    "#il ya d'autre méthode qui s'apelle \"Le traçage des scores de silhouette moyens\""
   ]
  },
  {
   "cell_type": "code",
   "execution_count": 108,
   "metadata": {
    "colab": {
     "base_uri": "https://localhost:8080/"
    },
    "id": "Va439urWWyQG",
    "outputId": "b36aa561-3ca5-4706-b330-35e369e3a71b"
   },
   "outputs": [
    {
     "data": {
      "text/plain": [
       "array([3, 1, 0, 1, 0, 3, 0, 1, 1, 2, 3, 3, 0, 1, 3, 2, 0, 1, 1, 3, 1, 3,\n",
       "       2, 0, 3, 1, 0, 0, 1, 0, 0, 0, 2, 0, 0, 3, 1, 2, 1, 3, 0, 3, 1, 1,\n",
       "       2, 0, 3, 0, 1, 1, 3, 3, 3, 3, 3, 3, 3, 1, 3, 1, 1, 3, 1, 0, 0, 1,\n",
       "       1, 1])"
      ]
     },
     "execution_count": 108,
     "metadata": {},
     "output_type": "execute_result"
    }
   ],
   "source": [
    "#Nombre de K ajouté\n",
    "km = KMeans(n_clusters=4)\n",
    "#Calculer les centres de cluster et prédire l'index de cluster \n",
    "Vecteur_n_1 = km.fit_predict(Drivers[['duration','Rank']])\n",
    "Vecteur_n_1 "
   ]
  },
  {
   "cell_type": "code",
   "execution_count": 109,
   "metadata": {
    "colab": {
     "base_uri": "https://localhost:8080/",
     "height": 206
    },
    "id": "SjkRCg5IZqyk",
    "outputId": "bd0ae15c-a0b0-4005-d2fb-823dce9cbba4"
   },
   "outputs": [
    {
     "data": {
      "text/html": [
       "<div>\n",
       "<style scoped>\n",
       "    .dataframe tbody tr th:only-of-type {\n",
       "        vertical-align: middle;\n",
       "    }\n",
       "\n",
       "    .dataframe tbody tr th {\n",
       "        vertical-align: top;\n",
       "    }\n",
       "\n",
       "    .dataframe thead th {\n",
       "        text-align: right;\n",
       "    }\n",
       "</style>\n",
       "<table border=\"1\" class=\"dataframe\">\n",
       "  <thead>\n",
       "    <tr style=\"text-align: right;\">\n",
       "      <th></th>\n",
       "      <th>Drivers</th>\n",
       "      <th>Saison</th>\n",
       "      <th>Age</th>\n",
       "      <th>stops</th>\n",
       "      <th>duration</th>\n",
       "      <th>Rank</th>\n",
       "      <th>Cluster</th>\n",
       "    </tr>\n",
       "  </thead>\n",
       "  <tbody>\n",
       "    <tr>\n",
       "      <th>0</th>\n",
       "      <td>Heikki Kovalainen</td>\n",
       "      <td>2013</td>\n",
       "      <td>32</td>\n",
       "      <td>5</td>\n",
       "      <td>0.224179</td>\n",
       "      <td>0.681818</td>\n",
       "      <td>3</td>\n",
       "    </tr>\n",
       "    <tr>\n",
       "      <th>1</th>\n",
       "      <td>Karun Chandhok</td>\n",
       "      <td>2011</td>\n",
       "      <td>27</td>\n",
       "      <td>3</td>\n",
       "      <td>0.216238</td>\n",
       "      <td>0.954545</td>\n",
       "      <td>1</td>\n",
       "    </tr>\n",
       "    <tr>\n",
       "      <th>2</th>\n",
       "      <td>Valtteri Bottas</td>\n",
       "      <td>2021</td>\n",
       "      <td>32</td>\n",
       "      <td>5</td>\n",
       "      <td>0.157648</td>\n",
       "      <td>0.227273</td>\n",
       "      <td>0</td>\n",
       "    </tr>\n",
       "    <tr>\n",
       "      <th>3</th>\n",
       "      <td>Alexander Rossi</td>\n",
       "      <td>2015</td>\n",
       "      <td>24</td>\n",
       "      <td>3</td>\n",
       "      <td>0.395683</td>\n",
       "      <td>0.772727</td>\n",
       "      <td>1</td>\n",
       "    </tr>\n",
       "    <tr>\n",
       "      <th>4</th>\n",
       "      <td>Pierre Gasly</td>\n",
       "      <td>2021</td>\n",
       "      <td>25</td>\n",
       "      <td>4</td>\n",
       "      <td>0.148312</td>\n",
       "      <td>0.136364</td>\n",
       "      <td>0</td>\n",
       "    </tr>\n",
       "  </tbody>\n",
       "</table>\n",
       "</div>"
      ],
      "text/plain": [
       "             Drivers  Saison  Age  stops  duration      Rank  Cluster\n",
       "0  Heikki Kovalainen    2013   32      5  0.224179  0.681818        3\n",
       "1     Karun Chandhok    2011   27      3  0.216238  0.954545        1\n",
       "2    Valtteri Bottas    2021   32      5  0.157648  0.227273        0\n",
       "3    Alexander Rossi    2015   24      3  0.395683  0.772727        1\n",
       "4       Pierre Gasly    2021   25      4  0.148312  0.136364        0"
      ]
     },
     "execution_count": 109,
     "metadata": {},
     "output_type": "execute_result"
    }
   ],
   "source": [
    "#ajouter le Valeur de Vecteur_n_1 en df\n",
    "Drivers['Cluster']=Vecteur_n_1\n",
    "Drivers.head()"
   ]
  },
  {
   "cell_type": "code",
   "execution_count": 110,
   "metadata": {
    "colab": {
     "base_uri": "https://localhost:8080/",
     "height": 265
    },
    "id": "VxotCjp9X44V",
    "outputId": "74b81f2f-9f24-4bf1-d9f9-b5e615ace947"
   },
   "outputs": [
    {
     "data": {
      "image/png": "[encoded data removed]",
      "text/plain": [
       "<Figure size 432x288 with 1 Axes>"
      ]
     },
     "metadata": {
      "needs_background": "light"
     },
     "output_type": "display_data"
    }
   ],
   "source": [
    "df1 =Drivers[Drivers.Cluster==0]\n",
    "df2 = Drivers[Drivers.Cluster==1]\n",
    "df3 = Drivers[Drivers.Cluster==2]\n",
    "df4 = Drivers[Drivers.Cluster==3]\n",
    "\n",
    "plt.scatter(df1.Rank,df1['duration'],color='green')\n",
    "plt.scatter(df2.Rank,df2['duration'],color='red')\n",
    "plt.scatter(df3.Rank,df3['duration'],color='orange')\n",
    "plt.scatter(df4.Rank,df4['duration'],color='black')\n",
    "plt.scatter(km.cluster_centers_[:,1],km.cluster_centers_[:,0],color='purple',marker='*',label='centroid')\n",
    "plt.legend()\n",
    "plt.show()"
   ]
  },
  {
   "cell_type": "code",
   "execution_count": 111,
   "metadata": {},
   "outputs": [
    {
     "data": {
      "text/html": [
       "<div>\n",
       "<style scoped>\n",
       "    .dataframe tbody tr th:only-of-type {\n",
       "        vertical-align: middle;\n",
       "    }\n",
       "\n",
       "    .dataframe tbody tr th {\n",
       "        vertical-align: top;\n",
       "    }\n",
       "\n",
       "    .dataframe thead th {\n",
       "        text-align: right;\n",
       "    }\n",
       "</style>\n",
       "<table border=\"1\" class=\"dataframe\">\n",
       "  <thead>\n",
       "    <tr style=\"text-align: right;\">\n",
       "      <th></th>\n",
       "      <th>Drivers</th>\n",
       "      <th>Saison</th>\n",
       "      <th>Age</th>\n",
       "      <th>stops</th>\n",
       "      <th>duration</th>\n",
       "      <th>Rank</th>\n",
       "      <th>Cluster</th>\n",
       "    </tr>\n",
       "  </thead>\n",
       "  <tbody>\n",
       "    <tr>\n",
       "      <th>0</th>\n",
       "      <td>Heikki Kovalainen</td>\n",
       "      <td>2013</td>\n",
       "      <td>32</td>\n",
       "      <td>5</td>\n",
       "      <td>0.224179</td>\n",
       "      <td>0.681818</td>\n",
       "      <td>3</td>\n",
       "    </tr>\n",
       "    <tr>\n",
       "      <th>1</th>\n",
       "      <td>Karun Chandhok</td>\n",
       "      <td>2011</td>\n",
       "      <td>27</td>\n",
       "      <td>3</td>\n",
       "      <td>0.216238</td>\n",
       "      <td>0.954545</td>\n",
       "      <td>1</td>\n",
       "    </tr>\n",
       "    <tr>\n",
       "      <th>2</th>\n",
       "      <td>Valtteri Bottas</td>\n",
       "      <td>2021</td>\n",
       "      <td>32</td>\n",
       "      <td>5</td>\n",
       "      <td>0.157648</td>\n",
       "      <td>0.227273</td>\n",
       "      <td>0</td>\n",
       "    </tr>\n",
       "    <tr>\n",
       "      <th>3</th>\n",
       "      <td>Alexander Rossi</td>\n",
       "      <td>2015</td>\n",
       "      <td>24</td>\n",
       "      <td>3</td>\n",
       "      <td>0.395683</td>\n",
       "      <td>0.772727</td>\n",
       "      <td>1</td>\n",
       "    </tr>\n",
       "    <tr>\n",
       "      <th>4</th>\n",
       "      <td>Pierre Gasly</td>\n",
       "      <td>2021</td>\n",
       "      <td>25</td>\n",
       "      <td>4</td>\n",
       "      <td>0.148312</td>\n",
       "      <td>0.136364</td>\n",
       "      <td>0</td>\n",
       "    </tr>\n",
       "  </tbody>\n",
       "</table>\n",
       "</div>"
      ],
      "text/plain": [
       "             Drivers  Saison  Age  stops  duration      Rank  Cluster\n",
       "0  Heikki Kovalainen    2013   32      5  0.224179  0.681818        3\n",
       "1     Karun Chandhok    2011   27      3  0.216238  0.954545        1\n",
       "2    Valtteri Bottas    2021   32      5  0.157648  0.227273        0\n",
       "3    Alexander Rossi    2015   24      3  0.395683  0.772727        1\n",
       "4       Pierre Gasly    2021   25      4  0.148312  0.136364        0"
      ]
     },
     "execution_count": 111,
     "metadata": {},
     "output_type": "execute_result"
    }
   ],
   "source": [
    "Drivers.head()"
   ]
  },
  {
   "cell_type": "code",
   "execution_count": 119,
   "metadata": {},
   "outputs": [],
   "source": [
    "# valeurs de toutes les colonnes\n",
    "#colonnes => 0:5 (0 à 5 [non inclus])\n",
    "#lignes = : (toutes les colonnes)\n",
    "V_SansLabels=Drivers.iloc[:,1:5];\n",
    "#Labels\n",
    "V_Labels=Drivers.iloc[:,0];"
   ]
  },
  {
   "cell_type": "code",
   "execution_count": 122,
   "metadata": {},
   "outputs": [
    {
     "name": "stdout",
     "output_type": "stream",
     "text": [
      "     0\n",
      "0    0\n",
      "0   38\n",
      "0   37\n",
      "0   36\n",
      "0   34\n",
      "..  ..\n",
      "1   31\n",
      "1   32\n",
      "1   66\n",
      "1   39\n",
      "1   67\n",
      "\n",
      "[68 rows x 1 columns]\n",
      "[[ 4.19738123  8.30727911]\n",
      " [ 9.527458    6.74801457]\n",
      " [ 5.582598    8.0990513 ]\n",
      " [11.00791878  2.82353324]\n",
      " [10.94804409  3.82683781]\n",
      " [ 4.35918721  8.73205497]\n",
      " [ 3.8657013  12.86268418]\n",
      " [11.84523519  2.38246922]\n",
      " [ 9.57617029  3.04927619]\n",
      " [10.70368997  3.2493337 ]\n",
      " [ 1.82107003 11.24279291]\n",
      " [ 4.44672538  6.95317424]\n",
      " [11.02461322  3.36836325]\n",
      " [ 7.09289647  3.56017473]\n",
      " [ 9.26980259 18.88478843]\n",
      " [12.00793593  3.76174298]\n",
      " [14.72896259  5.61629951]\n",
      " [ 2.85671971 10.31033645]\n",
      " [11.80983239  2.28308578]\n",
      " [ 7.10386363  4.52113329]\n",
      " [12.22239145  4.63503661]\n",
      " [10.95491615  4.06758987]\n",
      " [ 6.17797664  4.30910535]\n",
      " [ 9.20749496  4.38293096]\n",
      " [ 5.58253826  8.0989995 ]\n",
      " [10.0041102   3.2527094 ]\n",
      " [ 5.10741891 11.86112844]\n",
      " [ 8.81052059  1.25824731]\n",
      " [ 6.38522304  8.7510445 ]\n",
      " [11.8098155   3.91244325]\n",
      " [11.60245484  3.28909275]\n",
      " [ 8.81026672  5.65819299]\n",
      " [10.77388242  1.58041205]\n",
      " [11.43579556  2.95519614]\n",
      " [ 5.01671657 10.00604722]\n",
      " [ 9.81780645  1.3326832 ]\n",
      " [ 3.9811548   6.1692667 ]\n",
      " [ 5.02333326  5.796215  ]\n",
      " [ 2.60439324 12.23442786]\n",
      " [13.65856102  4.76782356]\n",
      " [ 6.22703308  7.36580114]\n",
      " [10.01975521  3.98490864]\n",
      " [13.65814021  4.76767277]\n",
      " [ 7.47243504  5.28629111]\n",
      " [ 3.93695054  9.57474692]\n",
      " [ 6.66849745 15.45557803]\n",
      " [ 8.76652306 17.61807594]\n",
      " [ 7.13082957 15.61627178]\n",
      " [ 8.00015438  6.1109692 ]\n",
      " [ 4.2733207  11.41760475]\n",
      " [12.88422348  6.50731953]\n",
      " [ 7.85455311  4.45179852]\n",
      " [ 7.17398444  6.68078628]\n",
      " [12.72825364  4.24490605]\n",
      " [12.07358956  2.52810477]\n",
      " [11.80984722  3.91256457]\n",
      " [12.72821779  4.24476462]\n",
      " [ 5.9491582  13.72586713]\n",
      " [ 8.96166562  1.468191  ]\n",
      " [ 8.38190587  4.94978804]\n",
      " [13.69733512  4.96743195]\n",
      " [ 6.39749167  7.34255943]\n",
      " [ 5.2995704  11.06738356]\n",
      " [ 3.77374025  6.28094346]\n",
      " [14.73373428  7.33333965]\n",
      " [ 7.5500659  16.97219392]\n",
      " [10.83096484  2.42220235]\n",
      " [10.83099776  2.42170126]]\n"
     ]
    },
    {
     "data": {
      "text/html": [
       "<div>\n",
       "<style scoped>\n",
       "    .dataframe tbody tr th:only-of-type {\n",
       "        vertical-align: middle;\n",
       "    }\n",
       "\n",
       "    .dataframe tbody tr th {\n",
       "        vertical-align: top;\n",
       "    }\n",
       "\n",
       "    .dataframe thead th {\n",
       "        text-align: right;\n",
       "    }\n",
       "</style>\n",
       "<table border=\"1\" class=\"dataframe\">\n",
       "  <thead>\n",
       "    <tr style=\"text-align: right;\">\n",
       "      <th>col_0</th>\n",
       "      <th>0</th>\n",
       "      <th>1</th>\n",
       "    </tr>\n",
       "    <tr>\n",
       "      <th>Drivers</th>\n",
       "      <th></th>\n",
       "      <th></th>\n",
       "    </tr>\n",
       "  </thead>\n",
       "  <tbody>\n",
       "    <tr>\n",
       "      <th>Adrian Sutil</th>\n",
       "      <td>1</td>\n",
       "      <td>0</td>\n",
       "    </tr>\n",
       "    <tr>\n",
       "      <th>Alexander Albon</th>\n",
       "      <td>0</td>\n",
       "      <td>1</td>\n",
       "    </tr>\n",
       "    <tr>\n",
       "      <th>Alexander Rossi</th>\n",
       "      <td>0</td>\n",
       "      <td>1</td>\n",
       "    </tr>\n",
       "    <tr>\n",
       "      <th>Antonio Giovinazzi</th>\n",
       "      <td>0</td>\n",
       "      <td>1</td>\n",
       "    </tr>\n",
       "    <tr>\n",
       "      <th>Brendon Hartley</th>\n",
       "      <td>0</td>\n",
       "      <td>1</td>\n",
       "    </tr>\n",
       "    <tr>\n",
       "      <th>...</th>\n",
       "      <td>...</td>\n",
       "      <td>...</td>\n",
       "    </tr>\n",
       "    <tr>\n",
       "      <th>Valtteri Bottas</th>\n",
       "      <td>1</td>\n",
       "      <td>0</td>\n",
       "    </tr>\n",
       "    <tr>\n",
       "      <th>Vitaly Petrov</th>\n",
       "      <td>0</td>\n",
       "      <td>1</td>\n",
       "    </tr>\n",
       "    <tr>\n",
       "      <th>Vitantonio Liuzzi</th>\n",
       "      <td>1</td>\n",
       "      <td>0</td>\n",
       "    </tr>\n",
       "    <tr>\n",
       "      <th>Will Stevens</th>\n",
       "      <td>0</td>\n",
       "      <td>1</td>\n",
       "    </tr>\n",
       "    <tr>\n",
       "      <th>Yuki Tsunoda</th>\n",
       "      <td>0</td>\n",
       "      <td>1</td>\n",
       "    </tr>\n",
       "  </tbody>\n",
       "</table>\n",
       "<p>68 rows × 2 columns</p>\n",
       "</div>"
      ],
      "text/plain": [
       "col_0               0  1\n",
       "Drivers                 \n",
       "Adrian Sutil        1  0\n",
       "Alexander Albon     0  1\n",
       "Alexander Rossi     0  1\n",
       "Antonio Giovinazzi  0  1\n",
       "Brendon Hartley     0  1\n",
       "...                .. ..\n",
       "Valtteri Bottas     1  0\n",
       "Vitaly Petrov       0  1\n",
       "Vitantonio Liuzzi   1  0\n",
       "Will Stevens        0  1\n",
       "Yuki Tsunoda        0  1\n",
       "\n",
       "[68 rows x 2 columns]"
      ]
     },
     "execution_count": 122,
     "metadata": {},
     "output_type": "execute_result"
    }
   ],
   "source": [
    "#k-means \n",
    "import numpy as np\n",
    "from sklearn import cluster \n",
    "kmeans = cluster.KMeans(n_clusters=2);\n",
    "kmeans.fit(V_SansLabels);\n",
    "#index triés des groupes \n",
    "idk = np.argsort(kmeans.labels_);\n",
    "#affichage des observations et leurs groupes \n",
    "print(pandas.DataFrame(V_SansLabels.index[idk],kmeans.labels_[idk]));\n",
    "kmeans.labels_\n",
    "#distances aux centres de classes des observations \n",
    "print(kmeans.transform(V_SansLabels));\n",
    "#correspondance avec les groupes réels \n",
    "pandas.crosstab(V_Labels,kmeans.labels_)"
   ]
  },
  {
   "cell_type": "markdown",
   "metadata": {
    "id": "dTBd20Vm7Gsz"
   },
   "source": [
    "    K-MEANS, à la différence de la CAH, ne fournit pas d’outils d’aide à la détection du nombre de classes. \n",
    "    Nous devons les programmer sous Python ou utiliser des procédures proposées par des packages dédiés. \n",
    "    Le schéma est souvent le même : on fait varier le nombre de groupes et on surveille l’évolution d’un indicateur de qualité\n",
    "    de la solution c.-à-d. l’aptitude des individus à être plus proches de ses congénères du même groupe que des individus \n",
    "    des autres groupes. Dans ce qui suit, on calcule la métrique «silhouette »\n",
    "    pour différents nombres de groupes issus de la méthode des centres mobiles."
   ]
  },
  {
   "cell_type": "code",
   "execution_count": 112,
   "metadata": {},
   "outputs": [],
   "source": [
    "#librairies pour la CAH \n",
    "from matplotlib import pyplot as plt \n",
    "from scipy.cluster.hierarchy import dendrogram, linkage,fcluster"
   ]
  },
  {
   "cell_type": "code",
   "execution_count": 113,
   "metadata": {},
   "outputs": [],
   "source": [
    "# valeurs de toutes les colonnes\n",
    "#colonnes => 0:5 (0 à 5 [non inclus])\n",
    "#lignes = : (toutes les colonnes)\n",
    "V_SansLabels=Drivers.iloc[:,1:5];\n",
    "#Labels\n",
    "V_Labels=Drivers.iloc[:,0];"
   ]
  },
  {
   "cell_type": "code",
   "execution_count": 114,
   "metadata": {},
   "outputs": [],
   "source": [
    "#générer la matrice des distances \n",
    "Z = linkage(V_SansLabels,method='ward',metric='euclidean')"
   ]
  },
  {
   "cell_type": "code",
   "execution_count": 115,
   "metadata": {
    "scrolled": true
   },
   "outputs": [
    {
     "data": {
      "image/png": "[encoded data removed]",
      "text/plain": [
       "<Figure size 432x288 with 1 Axes>"
      ]
     },
     "metadata": {
      "needs_background": "light"
     },
     "output_type": "display_data"
    }
   ],
   "source": [
    "#affichage du dendrogramme \n",
    "plt.title(\"CAH\") \n",
    "dendrogram(Z,labels=V_SansLabels.index,orientation='left',color_threshold=0) \n",
    "plt.show()"
   ]
  },
  {
   "cell_type": "code",
   "execution_count": 116,
   "metadata": {},
   "outputs": [
    {
     "data": {
      "image/png": "[encoded data removed]",
      "text/plain": [
       "<Figure size 432x288 with 1 Axes>"
      ]
     },
     "metadata": {
      "needs_background": "light"
     },
     "output_type": "display_data"
    },
    {
     "name": "stdout",
     "output_type": "stream",
     "text": [
      "[2 2 1 2 2 1 1 2 2 2 1 2 2 2 1 2 2 1 2 2 2 2 2 2 1 2 1 2 2 2 2 2 2 2 1 2 2\n",
      " 2 1 2 1 2 2 2 1 1 1 1 2 1 2 2 2 2 2 2 2 1 2 2 2 2 1 2 2 1 2 2]\n",
      "     0\n",
      "1   38\n",
      "1   26\n",
      "1   47\n",
      "1   17\n",
      "1   46\n",
      "..  ..\n",
      "2   32\n",
      "2   66\n",
      "2   35\n",
      "2   20\n",
      "2   67\n",
      "\n",
      "[68 rows x 1 columns]\n"
     ]
    }
   ],
   "source": [
    "# matérialisation des deux classes (hauteur t = 43) \n",
    "plt.title('CAH avec matérialisation des 2 classes') \n",
    "dendrogram(Z,labels=V_SansLabels.index,orientation='left',color_threshold=43) \n",
    "plt.show()\n",
    "\n",
    "#découpage à la hauteur t = 43==> identifiants de 2 groupes obtenus \n",
    "groupes_cah = fcluster(Z,t=43,criterion='distance') \n",
    "print(groupes_cah)\n",
    "\n",
    "#index triés des groupes \n",
    "import numpy as np \n",
    "idg = np.argsort(groupes_cah)\n",
    "\n",
    "#affichage des observations et leurs groupes\n",
    "print(pandas.DataFrame(V_SansLabels.index[idg],groupes_cah[idg]))"
   ]
  },
  {
   "cell_type": "code",
   "execution_count": 117,
   "metadata": {},
   "outputs": [
    {
     "data": {
      "text/html": [
       "<div>\n",
       "<style scoped>\n",
       "    .dataframe tbody tr th:only-of-type {\n",
       "        vertical-align: middle;\n",
       "    }\n",
       "\n",
       "    .dataframe tbody tr th {\n",
       "        vertical-align: top;\n",
       "    }\n",
       "\n",
       "    .dataframe thead th {\n",
       "        text-align: right;\n",
       "    }\n",
       "</style>\n",
       "<table border=\"1\" class=\"dataframe\">\n",
       "  <thead>\n",
       "    <tr style=\"text-align: right;\">\n",
       "      <th>col_0</th>\n",
       "      <th>1</th>\n",
       "      <th>2</th>\n",
       "    </tr>\n",
       "    <tr>\n",
       "      <th>Drivers</th>\n",
       "      <th></th>\n",
       "      <th></th>\n",
       "    </tr>\n",
       "  </thead>\n",
       "  <tbody>\n",
       "    <tr>\n",
       "      <th>Adrian Sutil</th>\n",
       "      <td>0</td>\n",
       "      <td>1</td>\n",
       "    </tr>\n",
       "    <tr>\n",
       "      <th>Alexander Albon</th>\n",
       "      <td>0</td>\n",
       "      <td>1</td>\n",
       "    </tr>\n",
       "    <tr>\n",
       "      <th>Alexander Rossi</th>\n",
       "      <td>0</td>\n",
       "      <td>1</td>\n",
       "    </tr>\n",
       "    <tr>\n",
       "      <th>Antonio Giovinazzi</th>\n",
       "      <td>0</td>\n",
       "      <td>1</td>\n",
       "    </tr>\n",
       "    <tr>\n",
       "      <th>Brendon Hartley</th>\n",
       "      <td>0</td>\n",
       "      <td>1</td>\n",
       "    </tr>\n",
       "    <tr>\n",
       "      <th>...</th>\n",
       "      <td>...</td>\n",
       "      <td>...</td>\n",
       "    </tr>\n",
       "    <tr>\n",
       "      <th>Valtteri Bottas</th>\n",
       "      <td>1</td>\n",
       "      <td>0</td>\n",
       "    </tr>\n",
       "    <tr>\n",
       "      <th>Vitaly Petrov</th>\n",
       "      <td>0</td>\n",
       "      <td>1</td>\n",
       "    </tr>\n",
       "    <tr>\n",
       "      <th>Vitantonio Liuzzi</th>\n",
       "      <td>0</td>\n",
       "      <td>1</td>\n",
       "    </tr>\n",
       "    <tr>\n",
       "      <th>Will Stevens</th>\n",
       "      <td>0</td>\n",
       "      <td>1</td>\n",
       "    </tr>\n",
       "    <tr>\n",
       "      <th>Yuki Tsunoda</th>\n",
       "      <td>0</td>\n",
       "      <td>1</td>\n",
       "    </tr>\n",
       "  </tbody>\n",
       "</table>\n",
       "<p>68 rows × 2 columns</p>\n",
       "</div>"
      ],
      "text/plain": [
       "col_0               1  2\n",
       "Drivers                 \n",
       "Adrian Sutil        0  1\n",
       "Alexander Albon     0  1\n",
       "Alexander Rossi     0  1\n",
       "Antonio Giovinazzi  0  1\n",
       "Brendon Hartley     0  1\n",
       "...                .. ..\n",
       "Valtteri Bottas     1  0\n",
       "Vitaly Petrov       0  1\n",
       "Vitantonio Liuzzi   0  1\n",
       "Will Stevens        0  1\n",
       "Yuki Tsunoda        0  1\n",
       "\n",
       "[68 rows x 2 columns]"
      ]
     },
     "execution_count": 117,
     "metadata": {},
     "output_type": "execute_result"
    }
   ],
   "source": [
    "#correspondance les vrais labels avec les groupes de la CAH \n",
    "pandas.crosstab(V_Labels,groupes_cah)"
   ]
  }
 ],
 "metadata": {
  "colab": {
   "collapsed_sections": [],
   "name": "Kmeans_exmpl.ipynb",
   "provenance": []
  },
  "kernelspec": {
   "display_name": "Python 3 (ipykernel)",
   "language": "python",
   "name": "python3"
  },
  "language_info": {
   "codemirror_mode": {
    "name": "ipython",
    "version": 3
   },
   "file_extension": ".py",
   "mimetype": "text/x-python",
   "name": "python",
   "nbconvert_exporter": "python",
   "pygments_lexer": "ipython3",
   "version": "3.9.7"
  }
 },
 "nbformat": 4,
 "nbformat_minor": 1
}
